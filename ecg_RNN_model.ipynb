{
  "nbformat": 4,
  "nbformat_minor": 0,
  "metadata": {
    "colab": {
      "provenance": [],
      "gpuType": "T4",
      "authorship_tag": "ABX9TyNYgOQM5E4TYZSar4vUjqKl",
      "include_colab_link": true
    },
    "kernelspec": {
      "name": "python3",
      "display_name": "Python 3"
    },
    "language_info": {
      "name": "python"
    },
    "accelerator": "GPU"
  },
  "cells": [
    {
      "cell_type": "markdown",
      "metadata": {
        "id": "view-in-github",
        "colab_type": "text"
      },
      "source": [
        "<a href=\"https://colab.research.google.com/github/t0mwelsh/CN_options/blob/main/ecg_RNN_model.ipynb\" target=\"_parent\"><img src=\"https://colab.research.google.com/assets/colab-badge.svg\" alt=\"Open In Colab\"/></a>"
      ]
    },
    {
      "cell_type": "code",
      "execution_count": 8,
      "metadata": {
        "colab": {
          "base_uri": "https://localhost:8080/"
        },
        "id": "MH5EvQwfO1l3",
        "outputId": "e8a5e3eb-67fa-4741-dd9a-107f18508ead"
      },
      "outputs": [
        {
          "output_type": "stream",
          "name": "stdout",
          "text": [
            "Colab only includes TensorFlow 2.x; %tensorflow_version has no effect.\n"
          ]
        }
      ],
      "source": [
        "%tensorflow_version 2.x  # this line is not required unless you are in a notebook\n",
        "from keras.preprocessing import sequence\n",
        "import keras\n",
        "import tensorflow as tf\n",
        "import os\n",
        "import numpy as np\n",
        "\n",
        "BATCH_SIZE = 64\n",
        "VALIDATION_SPLIT = 0.2 #cam change these three\n",
        "DROPOUT_RATE = 0.1"
      ]
    },
    {
      "cell_type": "code",
      "source": [
        "train_data = np.ones((4000, 5000, 12)) #need to edit once data is preprocessesed\n",
        "train_labels = np.ones((4000, 63))\n",
        "test_data = np.ones((500, 5000, 12))\n",
        "test_labels = np.ones((500, 63))"
      ],
      "metadata": {
        "id": "s6ITR2ytQD-n"
      },
      "execution_count": 2,
      "outputs": []
    },
    {
      "cell_type": "code",
      "source": [
        "largest_value = max(np.amax(train_data), np.amax(test_data))\n",
        "train_data /= largest_value\n",
        "test_data /= largest_value"
      ],
      "metadata": {
        "id": "e2-EydhZVRT3"
      },
      "execution_count": 3,
      "outputs": []
    },
    {
      "cell_type": "markdown",
      "source": [
        "Feel free to add more LTSM and Dense layers in the middle, change dropout rate (penultimate layer still) and change the arguments of LSTM. Input and final (Dense) layer need the same arguments though. Also, maybe only keep every 5th data point in one graph (or average/max/min of each 5) to decrease input size."
      ],
      "metadata": {
        "id": "1SXQspMlSFr6"
      }
    },
    {
      "cell_type": "code",
      "source": [
        "model = tf.keras.Sequential([\n",
        "    tf.keras.layers.Input(shape=(5000, 12)),\n",
        "    tf.keras.layers.LSTM(12, activation='tanh'),\n",
        "    tf.keras.layers.Dropout(rate=DROPOUT_RATE),\n",
        "    tf.keras.layers.Dense(63, activation=\"sigmoid\")\n",
        "])"
      ],
      "metadata": {
        "id": "ov6buCdVPg3W"
      },
      "execution_count": 12,
      "outputs": []
    },
    {
      "cell_type": "markdown",
      "source": [
        "Can try different optimizers but loss should stay the same. 60% sure about metrics. Epochs needs tp be higher for final training but 1 is fine when tinkering to speed up process."
      ],
      "metadata": {
        "id": "F6ijAKVzSb5U"
      }
    },
    {
      "cell_type": "code",
      "source": [
        "model.compile(loss=\"binary_crossentropy\",optimizer=\"rmsprop\",metrics=['acc'])\n",
        "\n",
        "history = model.fit(train_data, train_labels, batch_size=BATCH_SIZE, epochs=1, validation_split=VALIDATION_SPLIT)"
      ],
      "metadata": {
        "colab": {
          "base_uri": "https://localhost:8080/"
        },
        "id": "HwQQn9S-UYNZ",
        "outputId": "e15cddbc-bb72-46cb-9bbc-aedac327452d"
      },
      "execution_count": 5,
      "outputs": [
        {
          "output_type": "stream",
          "name": "stdout",
          "text": [
            "50/50 [==============================] - 15s 153ms/step - loss: 0.5928 - acc: 6.2500e-04 - val_loss: 0.4736 - val_acc: 0.0000e+00\n"
          ]
        }
      ]
    },
    {
      "cell_type": "code",
      "source": [
        "results = model.evaluate(test_data, test_labels)\n",
        "print(results)"
      ],
      "metadata": {
        "colab": {
          "base_uri": "https://localhost:8080/"
        },
        "id": "-J3Hp3UKUikn",
        "outputId": "7e3b09a0-ada4-45e1-f9c3-3bfaf997a41c"
      },
      "execution_count": 6,
      "outputs": [
        {
          "output_type": "stream",
          "name": "stdout",
          "text": [
            "16/16 [==============================] - 3s 159ms/step - loss: 0.4736 - acc: 0.0000e+00\n",
            "[0.4736342132091522, 0.0]\n"
          ]
        }
      ]
    },
    {
      "cell_type": "code",
      "source": [
        "model.save(\"ecg_model.h5\")"
      ],
      "metadata": {
        "id": "nqaACpdZfhhA"
      },
      "execution_count": null,
      "outputs": []
    }
  ]
}